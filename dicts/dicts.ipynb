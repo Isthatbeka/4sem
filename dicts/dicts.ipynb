{
 "cells": [
  {
   "cell_type": "markdown",
   "id": "2daed3eb",
   "metadata": {},
   "source": [
    "Task1\n",
    "\n",
    "\n",
    "Вам даны три списка (list) студентов:\n",
    "\n",
    "learners_french - изучающие французский язык\n",
    "pianists - владеющие игрой на фортепиано\n",
    "swimmers - занимающиеся плаванием\n",
    "\n",
    "Создайте программу, вычисляющую список пловцов-пианистов, не изучающих французский."
   ]
  },
  {
   "cell_type": "code",
   "execution_count": 158,
   "id": "8369266a",
   "metadata": {},
   "outputs": [],
   "source": [
    "class Task1:\n",
    "\n",
    "    def __init__(self, french, pianists, swimmers):\n",
    "        self.french = french\n",
    "        self.pianists = pianists\n",
    "        self.swimmers = swimmers\n",
    "\n",
    "    def special_students(self):\n",
    "        swimmers_set = set(swimmers)\n",
    "        pianists_set = set(pianists)\n",
    "        french_learners_set = set(learners_french)\n",
    "\n",
    "        result_set = swimmers_set & pianists_set - french_learners_set\n",
    "        result = list(result_set)\n",
    "        return result\n"
   ]
  },
  {
   "cell_type": "markdown",
   "id": "4957bccd",
   "metadata": {},
   "source": [
    "Task 2\n",
    "Вам даны два списка чисел list_1 и list_2.\n",
    "\n",
    "Подсчитайте количество уникальных в первом списке реализовав метод get_unique_list_1\n",
    "Подсчитайте количество уникальных среди обоих списков реализовав метод get_unique_both_lists"
   ]
  },
  {
   "cell_type": "code",
   "execution_count": 159,
   "id": "61b214f4",
   "metadata": {},
   "outputs": [],
   "source": [
    "class Task2:\n",
    "\n",
    "    def __init__(self, list_1, list_2):\n",
    "        self.list_1 = list_1\n",
    "        self.list_2 = list_2\n",
    "\n",
    "    def get_unique_list_1(self):\n",
    "        \"\"\"return unique elements of the first list\"\"\"\n",
    "        return len(set(list_1))\n",
    "\n",
    "    def get_unique_both_lists(self):\n",
    "        unique = set(list_1)\n",
    "        unique.update(set(list_2))\n",
    "        return len(unique)"
   ]
  },
  {
   "cell_type": "markdown",
   "id": "5497dd94",
   "metadata": {},
   "source": [
    "Task 3\n",
    "\n",
    "У каждого первокрусника спросили: \"Какой ваш любимый фильм?\". Ответы записали.\n",
    "Необходимо вывести рейтинг фильмов с количеством голосов за каждый в порядке убывания.\n",
    "Необходимо реализовать метод get_results, который возвращает dict."
   ]
  },
  {
   "cell_type": "code",
   "execution_count": 160,
   "id": "4da5c681",
   "metadata": {},
   "outputs": [],
   "source": [
    "class Task3:\n",
    "\n",
    "    def __init__(self, films):\n",
    "        self.films = films\n",
    "\n",
    "    def get_results(responses):\n",
    "        ratings = {}\n",
    "        for response in responses:\n",
    "            movie = response.lower().strip()\n",
    "            ratings[movie] = ratings.get(movie, 0) + 1\n",
    "        sorted_ratings = dict(sorted(ratings.items(), reverse=True))\n",
    "        return sorted_ratings\n"
   ]
  },
  {
   "cell_type": "markdown",
   "id": "0f7c7337",
   "metadata": {},
   "source": [
    "Task 4\n",
    "\n",
    "Вам дан текст (str).\n",
    "Напишите программу, подсчитывающую количество каждого слова в тексте. В тексте присутствует пунктуация. Слова с заглавной и строчной буквы не различать. Итоговый список слов и их количества в тексте выводить в порядке убывания по количеству."
   ]
  },
  {
   "cell_type": "code",
   "execution_count": 161,
   "id": "101dbf34",
   "metadata": {},
   "outputs": [],
   "source": [
    "class Task4:\n",
    "\n",
    "    def __init__(self, text):\n",
    "        self.text = text\n",
    "\n",
    "    def word_counter(self):\n",
    "        text = text.translate(str.maketrans('', '', string.punctuation)).lower()\n",
    "        words = text.split()\n",
    "        word_counts = {}\n",
    "        for word in words:\n",
    "            if word in word_counts:\n",
    "                word_counts[word] += 1\n",
    "            else:\n",
    "                word_counts[word] = 1\n",
    "        sorted_words = sorted(word_counts.items(), key=lambda x: x[1], reverse=True)\n",
    "\n",
    "        return sorted_words\n"
   ]
  },
  {
   "cell_type": "markdown",
   "id": "c99c3de1",
   "metadata": {},
   "source": [
    "Task5\n",
    "\n",
    "Вам дан словарь d, в котором ключ - имя человека, а значение - список родителей. Напишите функции, которые по имени человека name сообщают о его родственниках.\n",
    "Вот список методов для реализации:\n",
    "\n",
    "parents(name) - возвращает список родителей\n",
    "grandparents(name) - возвращает список бабушек и дедушек\n",
    "sibling(name) - возвращает список родных братьев и сестёр\n",
    "children(name) - возвращает список детей\n",
    "grandchildren(name) - возвращает список внуков и внучек"
   ]
  },
  {
   "cell_type": "code",
   "execution_count": 162,
   "id": "7c598fa2",
   "metadata": {},
   "outputs": [],
   "source": [
    "class Task5:\n",
    "\n",
    "    def __init__(self, family):\n",
    "        self.family = family\n",
    "\n",
    "    def parents(self, name):\n",
    "        \"\"\" returns list of parents \"\"\"\n",
    "        return self.family[name]\n",
    "    def grandparents(self, name):\n",
    "        parents = self.parents(name)\n",
    "        grandparents = []\n",
    "        for parent in parents:\n",
    "            grandparents.extend(self.parents(parent))\n",
    "        return grandparents\n",
    "\n",
    "    def siblings(self, name):\n",
    "        parent_list = self.parents(name)\n",
    "        sibling_list = []\n",
    "        for parent in parent_list:\n",
    "            for sibling in self.family[parent]:\n",
    "                if sibling != name and sibling not in sibling_list:\n",
    "                    sibling_list.append(sibling)\n",
    "        return sibling_list\n",
    "    def children(self, name):\n",
    "        children = []\n",
    "        for child in self.family:\n",
    "            if name in self.parents(child):\n",
    "                children.append(child)\n",
    "        return children\n",
    "\n",
    "\n",
    "    def grandchildren(self, name):\n",
    "        grandchildren = []\n",
    "        children = self.children(name)\n",
    "        for child in children:\n",
    "            grandchildren.extend(self.children(child))\n",
    "        return grandchildren\n"
   ]
  }
 ],
 "metadata": {
  "kernelspec": {
   "display_name": "Python 3 (ipykernel)",
   "language": "python",
   "name": "python3"
  },
  "language_info": {
   "codemirror_mode": {
    "name": "ipython",
    "version": 3
   },
   "file_extension": ".py",
   "mimetype": "text/x-python",
   "name": "python",
   "nbconvert_exporter": "python",
   "pygments_lexer": "ipython3",
   "version": "3.9.7"
  }
 },
 "nbformat": 4,
 "nbformat_minor": 5
}
